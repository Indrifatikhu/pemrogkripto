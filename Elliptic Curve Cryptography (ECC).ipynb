{
 "cells": [
  {
   "cell_type": "code",
   "execution_count": 3,
   "metadata": {},
   "outputs": [
    {
     "name": "stdout",
     "output_type": "stream",
     "text": [
      "p =2\n",
      "a =3\n",
      "b =4\n"
     ]
    },
    {
     "ename": "NameError",
     "evalue": "name 'GF' is not defined",
     "output_type": "error",
     "traceback": [
      "\u001b[1;31m---------------------------------------------------------------------------\u001b[0m",
      "\u001b[1;31mNameError\u001b[0m                                 Traceback (most recent call last)",
      "\u001b[1;32m<ipython-input-3-babf65a07e36>\u001b[0m in \u001b[0;36m<module>\u001b[1;34m\u001b[0m\n\u001b[0;32m      5\u001b[0m \u001b[0mb\u001b[0m \u001b[1;33m=\u001b[0m \u001b[0mint\u001b[0m\u001b[1;33m(\u001b[0m\u001b[0minput\u001b[0m\u001b[1;33m(\u001b[0m\u001b[1;34m\"b =\"\u001b[0m\u001b[1;33m)\u001b[0m\u001b[1;33m)\u001b[0m\u001b[1;33m\u001b[0m\u001b[1;33m\u001b[0m\u001b[0m\n\u001b[0;32m      6\u001b[0m \u001b[1;33m\u001b[0m\u001b[0m\n\u001b[1;32m----> 7\u001b[1;33m \u001b[0mG\u001b[0m \u001b[1;33m=\u001b[0m \u001b[0mECC\u001b[0m\u001b[1;33m.\u001b[0m\u001b[0mgenerate\u001b[0m\u001b[1;33m(\u001b[0m\u001b[0mGF\u001b[0m\u001b[1;33m(\u001b[0m\u001b[0mp\u001b[0m\u001b[1;33m)\u001b[0m\u001b[1;33m,\u001b[0m\u001b[1;33m[\u001b[0m\u001b[0ma\u001b[0m\u001b[1;33m,\u001b[0m\u001b[0mb\u001b[0m\u001b[1;33m]\u001b[0m\u001b[1;33m)\u001b[0m\u001b[1;33m\u001b[0m\u001b[1;33m\u001b[0m\u001b[0m\n\u001b[0m\u001b[0;32m      8\u001b[0m \u001b[0mG\u001b[0m\u001b[1;33m.\u001b[0m\u001b[0mpoints\u001b[0m\u001b[1;33m(\u001b[0m\u001b[1;33m)\u001b[0m\u001b[1;33m\u001b[0m\u001b[1;33m\u001b[0m\u001b[0m\n\u001b[0;32m      9\u001b[0m \u001b[1;33m\u001b[0m\u001b[0m\n",
      "\u001b[1;31mNameError\u001b[0m: name 'GF' is not defined"
     ]
    }
   ],
   "source": [
    "from Crypto.PublicKey import ECC\n",
    "\n",
    "p = int(input(\"p =\"))\n",
    "a = int(input(\"a =\"))\n",
    "b = int(input(\"b =\"))\n",
    "\n",
    "G = ECC.generate(GF(p),[a,b])\n",
    "G.points()\n",
    "\n",
    "P = G.random_point()\n",
    "print (\"The random point on G is: \" , P)\n",
    "\n",
    "n = P.order()\n",
    "print (\"The order of the point P is: \", n)\n",
    "\n",
    "d = randint(1,n)\n",
    "print (\"The private key d is: \", d)\n",
    "\n",
    "Q = d*P\n",
    "print (\"The public key Q is: \", Q)\n",
    "\n",
    "key = (d,Q)\n",
    "print (\"The key pair (d,Q) is: \", key)"
   ]
  },
  {
   "cell_type": "code",
   "execution_count": 7,
   "metadata": {},
   "outputs": [
    {
     "name": "stdout",
     "output_type": "stream",
     "text": [
      "p =2\n",
      "a =3\n",
      "b =4\n"
     ]
    },
    {
     "ename": "NameError",
     "evalue": "name 'GF' is not defined",
     "output_type": "error",
     "traceback": [
      "\u001b[1;31m---------------------------------------------------------------------------\u001b[0m",
      "\u001b[1;31mNameError\u001b[0m                                 Traceback (most recent call last)",
      "\u001b[1;32m<ipython-input-7-6c0d3a5b7be7>\u001b[0m in \u001b[0;36m<module>\u001b[1;34m\u001b[0m\n\u001b[0;32m      3\u001b[0m \u001b[0mb\u001b[0m \u001b[1;33m=\u001b[0m \u001b[0mint\u001b[0m\u001b[1;33m(\u001b[0m\u001b[0minput\u001b[0m\u001b[1;33m(\u001b[0m\u001b[1;34m\"b =\"\u001b[0m\u001b[1;33m)\u001b[0m\u001b[1;33m)\u001b[0m\u001b[1;33m\u001b[0m\u001b[1;33m\u001b[0m\u001b[0m\n\u001b[0;32m      4\u001b[0m \u001b[1;33m\u001b[0m\u001b[0m\n\u001b[1;32m----> 5\u001b[1;33m \u001b[0mK\u001b[0m \u001b[1;33m=\u001b[0m \u001b[0mGF\u001b[0m\u001b[1;33m(\u001b[0m\u001b[0mp\u001b[0m\u001b[1;33m)\u001b[0m\u001b[1;33m\u001b[0m\u001b[1;33m\u001b[0m\u001b[0m\n\u001b[0m\u001b[0;32m      6\u001b[0m \u001b[1;33m\u001b[0m\u001b[0m\n\u001b[0;32m      7\u001b[0m \u001b[0mG\u001b[0m \u001b[1;33m=\u001b[0m \u001b[0mEllipticCurve\u001b[0m\u001b[1;33m(\u001b[0m\u001b[0mK\u001b[0m\u001b[1;33m,\u001b[0m\u001b[1;33m[\u001b[0m\u001b[0ma\u001b[0m\u001b[1;33m,\u001b[0m\u001b[0mb\u001b[0m\u001b[1;33m]\u001b[0m\u001b[1;33m)\u001b[0m\u001b[1;33m\u001b[0m\u001b[1;33m\u001b[0m\u001b[0m\n",
      "\u001b[1;31mNameError\u001b[0m: name 'GF' is not defined"
     ]
    }
   ],
   "source": [
    "p = int(input(\"p =\"))\n",
    "a = int(input(\"a =\"))\n",
    "b = int(input(\"b =\"))\n",
    "\n",
    "K = GF(p)\n",
    "\n",
    "G = EllipticCurve(K,[a,b])\n",
    "P = G.random_point()\n",
    "print (\"The random point on G is: \", P)\n",
    "\n",
    "n = P.order()\n",
    "print (\"The order of the point P is: \", n)\n",
    "\n",
    "a = randint(1,n)\n",
    "print (\"The secret integer a is: \", a)\n",
    "\n",
    "Pa = a*P\n",
    "print (Pa)\n",
    "\n",
    "b = randint(1,n)\n",
    "print (\"The secret integer b is: \", b)\n",
    "\n",
    "Pb = b*Pa\n",
    "print (Pb)\n",
    "\n",
    "key = Pb\n",
    "print (\"The secret key is: \", key)"
   ]
  },
  {
   "cell_type": "code",
   "execution_count": 18,
   "metadata": {},
   "outputs": [
    {
     "name": "stdout",
     "output_type": "stream",
     "text": [
      "p =2\n",
      "a =3\n",
      "b =4\n"
     ]
    },
    {
     "ename": "NameError",
     "evalue": "name 'GF' is not defined",
     "output_type": "error",
     "traceback": [
      "\u001b[1;31m---------------------------------------------------------------------------\u001b[0m",
      "\u001b[1;31mNameError\u001b[0m                                 Traceback (most recent call last)",
      "\u001b[1;32m<ipython-input-18-8779a64a4ccf>\u001b[0m in \u001b[0;36m<module>\u001b[1;34m\u001b[0m\n\u001b[0;32m      3\u001b[0m \u001b[0mb\u001b[0m \u001b[1;33m=\u001b[0m \u001b[0mint\u001b[0m\u001b[1;33m(\u001b[0m\u001b[0minput\u001b[0m\u001b[1;33m(\u001b[0m\u001b[1;34m\"b =\"\u001b[0m\u001b[1;33m)\u001b[0m\u001b[1;33m)\u001b[0m\u001b[1;33m\u001b[0m\u001b[1;33m\u001b[0m\u001b[0m\n\u001b[0;32m      4\u001b[0m \u001b[1;33m\u001b[0m\u001b[0m\n\u001b[1;32m----> 5\u001b[1;33m \u001b[0mK\u001b[0m \u001b[1;33m=\u001b[0m \u001b[0mGF\u001b[0m\u001b[1;33m(\u001b[0m\u001b[0mp\u001b[0m\u001b[1;33m)\u001b[0m\u001b[1;33m\u001b[0m\u001b[1;33m\u001b[0m\u001b[0m\n\u001b[0m\u001b[0;32m      6\u001b[0m \u001b[1;33m\u001b[0m\u001b[0m\n\u001b[0;32m      7\u001b[0m \u001b[0mG\u001b[0m \u001b[1;33m=\u001b[0m \u001b[0mEllipticCurve\u001b[0m\u001b[1;33m(\u001b[0m\u001b[0mK\u001b[0m\u001b[1;33m,\u001b[0m\u001b[1;33m[\u001b[0m\u001b[0ma\u001b[0m\u001b[1;33m,\u001b[0m\u001b[0mb\u001b[0m\u001b[1;33m]\u001b[0m\u001b[1;33m)\u001b[0m\u001b[1;33m\u001b[0m\u001b[1;33m\u001b[0m\u001b[0m\n",
      "\u001b[1;31mNameError\u001b[0m: name 'GF' is not defined"
     ]
    }
   ],
   "source": [
    "p = int(input(\"p =\"))\n",
    "a = int(input(\"a =\"))\n",
    "b = int(input(\"b =\"))\n",
    "\n",
    "K = GF(p)\n",
    "\n",
    "G = EllipticCurve(K,[a,b])\n",
    "print (G)\n",
    "print (G.points())\n",
    "\n",
    "P = G.gen(0)\n",
    "print (\"The generator on G is: \", P)\n",
    "\n",
    "n = P.order()\n",
    "print (\"The order of the point P is: \", n)\n",
    "\n",
    "r = randint(1,n)\n",
    "print (\"The private key r is: \", r)\n",
    "\n",
    "Q = r*P\n",
    "print (\"The public key Q is: \", Q)\n",
    "\n",
    "#begin_Koblitz\n",
    "f = x^3+(a*x)+ b\n",
    "l = 10\n",
    "mes = 5\n",
    "i = 0\n",
    "while(True):\n",
    "    flag = legendre_symbol(f(mes*l+i),p)\n",
    "    if flag==1:\n",
    "        print (\"i =\",i)\n",
    "        break;\n",
    "    else:\n",
    "        if i<l:\n",
    "            i = i+1\n",
    "        else:\n",
    "            break;\n",
    "\n",
    "x = mes*l+i\n",
    "print (\"x =\",x)\n",
    "\n",
    "y = mod((x**3+2*x+7),p).sqrt()\n",
    "print (\"y =\",y)\n",
    "\n",
    "m = G(x,y,1)\n",
    "print (\"m =\",m)\n",
    "#end_Koblitz\n",
    "\n",
    "#begin_Encryption\n",
    "k = randint(1,n)\n",
    "print (\"The private key k is: \", k)\n",
    "\n",
    "C1 = k*P\n",
    "C2 = m+k*Q\n",
    "print (\"The cyphertext is: \",(C1,C2))\n",
    "#end_Encryption\n",
    "\n",
    "#begin_Decryption\n",
    "pt = C2-r*C1\n",
    "print (\"The plaintext is: \", pt)\n",
    "#end_Decryption\n",
    "\n",
    "#begin_Verification\n",
    "print (m == pt)\n",
    "\n",
    "x1 = int(pt.xy()[0])\n",
    "print (mes == floor(x1/l))\n",
    "#end_Verification"
   ]
  },
  {
   "cell_type": "code",
   "execution_count": 6,
   "metadata": {},
   "outputs": [
    {
     "ename": "AttributeError",
     "evalue": "'CbcMode' object has no attribute 'encrypt_and_digest'",
     "output_type": "error",
     "traceback": [
      "\u001b[1;31m---------------------------------------------------------------------------\u001b[0m",
      "\u001b[1;31mAttributeError\u001b[0m                            Traceback (most recent call last)",
      "\u001b[1;32m<ipython-input-6-cd1b8bdef54f>\u001b[0m in \u001b[0;36m<module>\u001b[1;34m\u001b[0m\n\u001b[0;32m      5\u001b[0m \u001b[1;31m#cipher = AES.new(key, AES.MODE_EAX)\u001b[0m\u001b[1;33m\u001b[0m\u001b[1;33m\u001b[0m\u001b[1;33m\u001b[0m\u001b[0m\n\u001b[0;32m      6\u001b[0m \u001b[0mcipher\u001b[0m \u001b[1;33m=\u001b[0m \u001b[0mAES\u001b[0m\u001b[1;33m.\u001b[0m\u001b[0mnew\u001b[0m\u001b[1;33m(\u001b[0m\u001b[1;34m'This is a key123'\u001b[0m\u001b[1;33m.\u001b[0m\u001b[0mencode\u001b[0m\u001b[1;33m(\u001b[0m\u001b[1;34m\"utf8\"\u001b[0m\u001b[1;33m)\u001b[0m\u001b[1;33m,\u001b[0m \u001b[0mAES\u001b[0m\u001b[1;33m.\u001b[0m\u001b[0mMODE_CBC\u001b[0m\u001b[1;33m,\u001b[0m \u001b[1;34m'This is an IV456'\u001b[0m\u001b[1;33m.\u001b[0m\u001b[0mencode\u001b[0m\u001b[1;33m(\u001b[0m\u001b[1;34m\"utf8\"\u001b[0m\u001b[1;33m)\u001b[0m\u001b[1;33m)\u001b[0m\u001b[1;33m\u001b[0m\u001b[1;33m\u001b[0m\u001b[0m\n\u001b[1;32m----> 7\u001b[1;33m \u001b[0mciphertext\u001b[0m\u001b[1;33m,\u001b[0m \u001b[0mtag\u001b[0m \u001b[1;33m=\u001b[0m \u001b[0mcipher\u001b[0m\u001b[1;33m.\u001b[0m\u001b[0mencrypt_and_digest\u001b[0m\u001b[1;33m(\u001b[0m\u001b[0mdata\u001b[0m\u001b[1;33m)\u001b[0m\u001b[1;33m\u001b[0m\u001b[1;33m\u001b[0m\u001b[0m\n\u001b[0m\u001b[0;32m      8\u001b[0m \u001b[1;33m\u001b[0m\u001b[0m\n\u001b[0;32m      9\u001b[0m \u001b[0mfile_out\u001b[0m \u001b[1;33m=\u001b[0m \u001b[0mopen\u001b[0m\u001b[1;33m(\u001b[0m\u001b[1;34m\"encrypted.bin\"\u001b[0m\u001b[1;33m,\u001b[0m \u001b[1;34m\"wb\"\u001b[0m\u001b[1;33m)\u001b[0m\u001b[1;33m\u001b[0m\u001b[1;33m\u001b[0m\u001b[0m\n",
      "\u001b[1;31mAttributeError\u001b[0m: 'CbcMode' object has no attribute 'encrypt_and_digest'"
     ]
    }
   ],
   "source": [
    "from Crypto.Cipher import AES\n",
    "from Crypto.Random import get_random_bytes\n",
    "data='pagi'\n",
    "key = get_random_bytes(16)\n",
    "#cipher = AES.new(key, AES.MODE_EAX)\n",
    "cipher = AES.new('This is a key123'.encode(\"utf8\"), AES.MODE_CBC, 'This is an IV456'.encode(\"utf8\"))\n",
    "ciphertext, tag = cipher.encrypt_and_digest(data)\n",
    "\n",
    "file_out = open(\"encrypted.bin\", \"wb\")\n",
    "[ file_out.write(x) for x in (cipher.nonce, tag, ciphertext) ]\n",
    "file_out.close()"
   ]
  },
  {
   "cell_type": "code",
   "execution_count": null,
   "metadata": {},
   "outputs": [],
   "source": []
  }
 ],
 "metadata": {
  "kernelspec": {
   "display_name": "Python 3",
   "language": "python",
   "name": "python3"
  },
  "language_info": {
   "codemirror_mode": {
    "name": "ipython",
    "version": 3
   },
   "file_extension": ".py",
   "mimetype": "text/x-python",
   "name": "python",
   "nbconvert_exporter": "python",
   "pygments_lexer": "ipython3",
   "version": "3.7.6"
  }
 },
 "nbformat": 4,
 "nbformat_minor": 4
}
